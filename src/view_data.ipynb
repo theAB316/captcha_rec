{
 "cells": [
  {
   "cell_type": "code",
   "execution_count": 7,
   "metadata": {},
   "outputs": [],
   "source": [
    "from pathlib import Path\n",
    "from tqdm import tqdm\n",
    "import torch\n",
    "import numpy as np\n",
    "\n",
    "from sklearn import preprocessing\n",
    "from sklearn import model_selection\n",
    "from sklearn import metrics\n",
    "\n",
    "import config\n",
    "import dataset\n",
    "\n",
    "import matplotlib.pyplot as plt\n",
    "%matplotlib inline"
   ]
  },
  {
   "cell_type": "code",
   "execution_count": 2,
   "metadata": {},
   "outputs": [
    {
     "name": "stdout",
     "output_type": "stream",
     "text": [
      "Number of target data-points: 1040, \n",
      "Unique chars: ['2', '3', '4', '5', '6', '7', '8', 'b', 'c', 'd', 'e', 'f', 'g', 'm', 'n', 'p', 'w', 'x', 'y'] \n",
      "\n",
      "Encoded targets: \n",
      "[[ 1  1  5 14 10]\n",
      " [ 1  1 10  4 15]\n",
      " [ 1  2  4  5 13]\n",
      " ...\n",
      " [19 19  7  1  3]\n",
      " [19 19 13  4 13]\n",
      " [19 19 15  4  6]]\n"
     ]
    }
   ],
   "source": [
    "# Use pathlib.Path\n",
    "data_path = Path(config.data_dir)\n",
    "image_files = list(data_path.glob(\"*.png\"))             # Creates a list of all the file names\n",
    "targets = []\n",
    "targets_orig = []\n",
    "targets_unique = set()\n",
    "\n",
    "# Loop through each file and create target list\n",
    "for file in data_path.iterdir():\n",
    "    targets_orig.append(file.stem)                      # append the filename\n",
    "    targets.append(list(file.stem))                     # append the list of chars\n",
    "    targets_unique.update(list(file.stem))              # keep track of unique chars\n",
    "\n",
    "msg = \"Number of target data-points: {}, \\nUnique chars: {} \\n\"\n",
    "print(msg.format(len(targets), sorted(targets_unique)))\n",
    "\n",
    "# Label encode\n",
    "le = preprocessing.LabelEncoder()\n",
    "le.fit(sorted(targets_unique))                          # we only need the unique chars to map using LabelEncoder\n",
    "targets_encoded = [le.transform(x) for x in targets]\n",
    "targets_encoded = np.array(targets_encoded) + 1         # adding 1 because 0 represents \"unkwown\"\n",
    "\n",
    "msg = \"Encoded targets: \\n{}\"\n",
    "print(msg.format(targets_encoded))"
   ]
  },
  {
   "cell_type": "code",
   "execution_count": 3,
   "metadata": {},
   "outputs": [],
   "source": [
    "# Split dataset\n",
    "train_images, test_images, train_targets, test_targets, train_orig_targets, test_orig_targets = \\\n",
    "    model_selection.train_test_split(\n",
    "        image_files, \n",
    "        targets_encoded, \n",
    "        targets_orig, \n",
    "        random_state=42,\n",
    "        test_size=0.1, \n",
    "    )\n",
    "\n",
    "train_dataset = dataset.ClassificationDataset(image_paths=train_images,\n",
    "                                              targets=train_targets,\n",
    "                                              resize=(config.image_height, config.image_width))"
   ]
  },
  {
   "cell_type": "code",
   "execution_count": 4,
   "metadata": {},
   "outputs": [
    {
     "name": "stderr",
     "output_type": "stream",
     "text": [
      "Clipping input data to the valid range for imshow with RGB data ([0..1] for floats or [0..255] for integers).\n"
     ]
    },
    {
     "name": "stdout",
     "output_type": "stream",
     "text": [
      "Channels first shape: torch.Size([3, 75, 300])\n",
      "Channels last shape: (75, 300, 3)\n"
     ]
    },
    {
     "data": {
      "text/plain": [
       "<matplotlib.image.AxesImage at 0x17e23d3d518>"
      ]
     },
     "execution_count": 4,
     "metadata": {},
     "output_type": "execute_result"
    },
    {
     "data": {
      "image/png": "[encoded data removed]",
      "text/plain": [
       "<Figure size 432x288 with 1 Axes>"
      ]
     },
     "metadata": {
      "needs_background": "light"
     },
     "output_type": "display_data"
    }
   ],
   "source": [
    "# Take any image and visualize it\n",
    "img = train_dataset[12][\"images\"]\n",
    "print(\"Channels first shape:\", img.shape)\n",
    "\n",
    "# To display the data, transpose back to \"channels last\"\n",
    "img = np.transpose(img.numpy(), (1,2,0))\n",
    "print(\"Channels last shape:\", img.shape)\n",
    "plt.imshow(img)\n"
   ]
  },
  {
   "cell_type": "code",
   "execution_count": 18,
   "metadata": {},
   "outputs": [
    {
     "name": "stderr",
     "output_type": "stream",
     "text": [
      "\n",
      "\n",
      "\n",
      "\n",
      "\n",
      "  0%|                                                                                                                                                                                     | 0/117 [00:00<?, ?it/s]\u001b[A\u001b[A\u001b[A\u001b[A\u001b[A"
     ]
    },
    {
     "name": "stdout",
     "output_type": "stream",
     "text": [
      "dict_keys(['images', 'targets'])\n",
      "torch.Size([8, 3, 75, 300]) torch.Size([8, 5])\n",
      "dict_items([('images', tensor([[[[1.1700, 1.1700, 1.1700,  ..., 2.1804, 2.1804, 2.1804],\n",
      "          [1.1700, 1.1700, 1.1700,  ..., 2.1804, 2.1804, 2.1804],\n",
      "          [1.1700, 1.1700, 1.1700,  ..., 2.1804, 2.1804, 2.1804],\n",
      "          ...,\n",
      "          [1.2214, 1.2214, 1.2214,  ..., 2.2318, 2.2318, 2.2318],\n",
      "          [1.2214, 1.2214, 1.2214,  ..., 2.2318, 2.2318, 2.2318],\n",
      "          [1.2214, 1.2214, 1.2214,  ..., 2.2318, 2.2318, 2.2318]],\n",
      "\n",
      "         [[1.3256, 1.3256, 1.3256,  ..., 2.3585, 2.3585, 2.3585],\n",
      "          [1.3256, 1.3256, 1.3256,  ..., 2.3585, 2.3585, 2.3585],\n",
      "          [1.3256, 1.3256, 1.3256,  ..., 2.3585, 2.3585, 2.3585],\n",
      "          ...,\n",
      "          [1.3782, 1.3782, 1.3782,  ..., 2.4111, 2.4111, 2.4111],\n",
      "          [1.3782, 1.3782, 1.3782,  ..., 2.4111, 2.4111, 2.4111],\n",
      "          [1.3782, 1.3782, 1.3782,  ..., 2.4111, 2.4111, 2.4111]],\n",
      "\n",
      "         [[1.5420, 1.5420, 1.5420,  ..., 2.5703, 2.5703, 2.5703],\n",
      "          [1.5420, 1.5420, 1.5420,  ..., 2.5703, 2.5703, 2.5703],\n",
      "          [1.5420, 1.5420, 1.5420,  ..., 2.5703, 2.5703, 2.5703],\n",
      "          ...,\n",
      "          [1.5942, 1.5942, 1.5942,  ..., 2.6226, 2.6226, 2.6226],\n",
      "          [1.5942, 1.5942, 1.5942,  ..., 2.6226, 2.6226, 2.6226],\n",
      "          [1.5942, 1.5942, 1.5942,  ..., 2.6226, 2.6226, 2.6226]]],\n",
      "\n",
      "\n",
      "        [[[1.1700, 1.1700, 1.1700,  ..., 2.1804, 2.1804, 2.1804],\n",
      "          [1.1700, 1.1700, 1.1700,  ..., 2.1804, 2.1804, 2.1804],\n",
      "          [1.1700, 1.1700, 1.1700,  ..., 2.1804, 2.1804, 2.1804],\n",
      "          ...,\n",
      "          [1.2214, 1.2214, 1.2214,  ..., 2.2318, 2.2318, 2.2318],\n",
      "          [1.2214, 1.2214, 1.2214,  ..., 2.2318, 2.2318, 2.2318],\n",
      "          [1.2214, 1.2214, 1.2214,  ..., 2.2318, 2.2318, 2.2318]],\n",
      "\n",
      "         [[1.3256, 1.3256, 1.3256,  ..., 2.3585, 2.3585, 2.3585],\n",
      "          [1.3256, 1.3256, 1.3256,  ..., 2.3585, 2.3585, 2.3585],\n",
      "          [1.3256, 1.3256, 1.3256,  ..., 2.3585, 2.3585, 2.3585],\n",
      "          ...,\n",
      "          [1.3782, 1.3782, 1.3782,  ..., 2.4111, 2.4111, 2.4111],\n",
      "          [1.3782, 1.3782, 1.3782,  ..., 2.4111, 2.4111, 2.4111],\n",
      "          [1.3782, 1.3782, 1.3782,  ..., 2.4111, 2.4111, 2.4111]],\n",
      "\n",
      "         [[1.5420, 1.5420, 1.5420,  ..., 2.5703, 2.5703, 2.5703],\n",
      "          [1.5420, 1.5420, 1.5420,  ..., 2.5703, 2.5703, 2.5703],\n",
      "          [1.5420, 1.5420, 1.5420,  ..., 2.5703, 2.5703, 2.5703],\n",
      "          ...,\n",
      "          [1.5942, 1.5942, 1.5942,  ..., 2.6226, 2.6226, 2.6226],\n",
      "          [1.5942, 1.5942, 1.5942,  ..., 2.6226, 2.6226, 2.6226],\n",
      "          [1.5942, 1.5942, 1.5942,  ..., 2.6226, 2.6226, 2.6226]]],\n",
      "\n",
      "\n",
      "        [[[1.1700, 1.1700, 1.1700,  ..., 2.1804, 2.1804, 2.1804],\n",
      "          [1.1700, 1.1700, 1.1700,  ..., 2.1804, 2.1804, 2.1804],\n",
      "          [1.1700, 1.1700, 1.1700,  ..., 2.1804, 2.1804, 2.1804],\n",
      "          ...,\n",
      "          [1.2214, 1.2214, 1.2214,  ..., 2.2318, 2.2318, 2.2318],\n",
      "          [1.2214, 1.2214, 1.2214,  ..., 2.2318, 2.2318, 2.2318],\n",
      "          [1.2214, 1.2214, 1.2214,  ..., 2.2318, 2.2318, 2.2318]],\n",
      "\n",
      "         [[1.3256, 1.3256, 1.3256,  ..., 2.3585, 2.3585, 2.3585],\n",
      "          [1.3256, 1.3256, 1.3256,  ..., 2.3585, 2.3585, 2.3585],\n",
      "          [1.3256, 1.3256, 1.3256,  ..., 2.3585, 2.3585, 2.3585],\n",
      "          ...,\n",
      "          [1.3782, 1.3782, 1.3782,  ..., 2.4111, 2.4111, 2.4111],\n",
      "          [1.3782, 1.3782, 1.3782,  ..., 2.4111, 2.4111, 2.4111],\n",
      "          [1.3782, 1.3782, 1.3782,  ..., 2.4111, 2.4111, 2.4111]],\n",
      "\n",
      "         [[1.5420, 1.5420, 1.5420,  ..., 2.5703, 2.5703, 2.5703],\n",
      "          [1.5420, 1.5420, 1.5420,  ..., 2.5703, 2.5703, 2.5703],\n",
      "          [1.5420, 1.5420, 1.5420,  ..., 2.5703, 2.5703, 2.5703],\n",
      "          ...,\n",
      "          [1.5942, 1.5942, 1.5942,  ..., 2.6226, 2.6226, 2.6226],\n",
      "          [1.5942, 1.5942, 1.5942,  ..., 2.6226, 2.6226, 2.6226],\n",
      "          [1.5942, 1.5942, 1.5942,  ..., 2.6226, 2.6226, 2.6226]]],\n",
      "\n",
      "\n",
      "        ...,\n",
      "\n",
      "\n",
      "        [[[1.1700, 1.1700, 1.1700,  ..., 2.1804, 2.1804, 2.1804],\n",
      "          [1.1700, 1.1700, 1.1700,  ..., 2.1804, 2.1804, 2.1804],\n",
      "          [1.1700, 1.1700, 1.1700,  ..., 2.1804, 2.1804, 2.1804],\n",
      "          ...,\n",
      "          [1.2214, 1.2214, 1.2214,  ..., 2.2318, 2.2318, 2.2318],\n",
      "          [1.2214, 1.2214, 1.2214,  ..., 2.2318, 2.2318, 2.2318],\n",
      "          [1.2214, 1.2214, 1.2214,  ..., 2.2318, 2.2318, 2.2318]],\n",
      "\n",
      "         [[1.3256, 1.3256, 1.3256,  ..., 2.3585, 2.3585, 2.3585],\n",
      "          [1.3256, 1.3256, 1.3256,  ..., 2.3585, 2.3585, 2.3585],\n",
      "          [1.3256, 1.3256, 1.3256,  ..., 2.3585, 2.3585, 2.3585],\n",
      "          ...,\n",
      "          [1.3782, 1.3782, 1.3782,  ..., 2.4111, 2.4111, 2.4111],\n",
      "          [1.3782, 1.3782, 1.3782,  ..., 2.4111, 2.4111, 2.4111],\n",
      "          [1.3782, 1.3782, 1.3782,  ..., 2.4111, 2.4111, 2.4111]],\n",
      "\n",
      "         [[1.5420, 1.5420, 1.5420,  ..., 2.5703, 2.5703, 2.5703],\n",
      "          [1.5420, 1.5420, 1.5420,  ..., 2.5703, 2.5703, 2.5703],\n",
      "          [1.5420, 1.5420, 1.5420,  ..., 2.5703, 2.5703, 2.5703],\n",
      "          ...,\n",
      "          [1.5942, 1.5942, 1.5942,  ..., 2.6226, 2.6226, 2.6226],\n",
      "          [1.5942, 1.5942, 1.5942,  ..., 2.6226, 2.6226, 2.6226],\n",
      "          [1.5942, 1.5942, 1.5942,  ..., 2.6226, 2.6226, 2.6226]]],\n",
      "\n",
      "\n",
      "        [[[1.1700, 1.1700, 1.1700,  ..., 2.1804, 2.1804, 2.1804],\n",
      "          [1.1700, 1.1700, 1.1700,  ..., 2.1804, 2.1804, 2.1804],\n",
      "          [1.1700, 1.1700, 1.1700,  ..., 2.1804, 2.1804, 2.1804],\n",
      "          ...,\n",
      "          [1.2214, 1.2214, 1.2214,  ..., 2.2318, 2.2318, 2.2318],\n",
      "          [1.2214, 1.2214, 1.2214,  ..., 2.2318, 2.2318, 2.2318],\n",
      "          [1.2214, 1.2214, 1.2214,  ..., 2.2318, 2.2318, 2.2318]],\n",
      "\n",
      "         [[1.3256, 1.3256, 1.3256,  ..., 2.3585, 2.3585, 2.3585],\n",
      "          [1.3256, 1.3256, 1.3256,  ..., 2.3585, 2.3585, 2.3585],\n",
      "          [1.3256, 1.3256, 1.3256,  ..., 2.3585, 2.3585, 2.3585],\n",
      "          ...,\n",
      "          [1.3782, 1.3782, 1.3782,  ..., 2.4111, 2.4111, 2.4111],\n",
      "          [1.3782, 1.3782, 1.3782,  ..., 2.4111, 2.4111, 2.4111],\n",
      "          [1.3782, 1.3782, 1.3782,  ..., 2.4111, 2.4111, 2.4111]],\n",
      "\n",
      "         [[1.5420, 1.5420, 1.5420,  ..., 2.5703, 2.5703, 2.5703],\n",
      "          [1.5420, 1.5420, 1.5420,  ..., 2.5703, 2.5703, 2.5703],\n",
      "          [1.5420, 1.5420, 1.5420,  ..., 2.5703, 2.5703, 2.5703],\n",
      "          ...,\n",
      "          [1.5942, 1.5942, 1.5942,  ..., 2.6226, 2.6226, 2.6226],\n",
      "          [1.5942, 1.5942, 1.5942,  ..., 2.6226, 2.6226, 2.6226],\n",
      "          [1.5942, 1.5942, 1.5942,  ..., 2.6226, 2.6226, 2.6226]]],\n",
      "\n",
      "\n",
      "        [[[1.1700, 1.1700, 1.1700,  ..., 2.1804, 2.1804, 2.1804],\n",
      "          [1.1700, 1.1700, 1.1700,  ..., 2.1804, 2.1804, 2.1804],\n",
      "          [1.1700, 1.1700, 1.1700,  ..., 2.1804, 2.1804, 2.1804],\n",
      "          ...,\n",
      "          [1.2214, 1.2214, 1.2214,  ..., 2.2318, 2.2318, 2.2318],\n",
      "          [1.2214, 1.2214, 1.2214,  ..., 2.2318, 2.2318, 2.2318],\n",
      "          [1.2214, 1.2214, 1.2214,  ..., 2.2318, 2.2318, 2.2318]],\n",
      "\n",
      "         [[1.3256, 1.3256, 1.3256,  ..., 2.3585, 2.3585, 2.3585],\n",
      "          [1.3256, 1.3256, 1.3256,  ..., 2.3585, 2.3585, 2.3585],\n",
      "          [1.3256, 1.3256, 1.3256,  ..., 2.3585, 2.3585, 2.3585],\n",
      "          ...,\n",
      "          [1.3782, 1.3782, 1.3782,  ..., 2.4111, 2.4111, 2.4111],\n",
      "          [1.3782, 1.3782, 1.3782,  ..., 2.4111, 2.4111, 2.4111],\n",
      "          [1.3782, 1.3782, 1.3782,  ..., 2.4111, 2.4111, 2.4111]],\n",
      "\n",
      "         [[1.5420, 1.5420, 1.5420,  ..., 2.5703, 2.5703, 2.5703],\n",
      "          [1.5420, 1.5420, 1.5420,  ..., 2.5703, 2.5703, 2.5703],\n",
      "          [1.5420, 1.5420, 1.5420,  ..., 2.5703, 2.5703, 2.5703],\n",
      "          ...,\n",
      "          [1.5942, 1.5942, 1.5942,  ..., 2.6226, 2.6226, 2.6226],\n",
      "          [1.5942, 1.5942, 1.5942,  ..., 2.6226, 2.6226, 2.6226],\n",
      "          [1.5942, 1.5942, 1.5942,  ..., 2.6226, 2.6226, 2.6226]]]])), ('targets', tensor([[ 6,  8,  8,  6,  8],\n",
      "        [ 2,  7, 15,  4,  6],\n",
      "        [10,  9, 15, 16,  7],\n",
      "        [ 3,  3,  9,  1,  1],\n",
      "        [ 7, 15, 16,  1,  1],\n",
      "        [18,  6,  6,  3,  5],\n",
      "        [14,  4, 19, 14,  1],\n",
      "        [14,  2,  8,  4, 16]]))])\n"
     ]
    }
   ],
   "source": [
    "# Create a dataloader and then use tqdm to show how it works\n",
    "train_loader = torch.utils.data.DataLoader(\n",
    "    train_dataset,\n",
    "    batch_size=config.batch_size,\n",
    "    num_workers=config.num_workers,\n",
    "    shuffle=True\n",
    ")\n",
    "\n",
    "tk = tqdm(train_loader, total=len(train_loader))\n",
    "\n",
    "for data in tk:\n",
    "    print(data.keys())\n",
    "    print(data['images'].size(), data['targets'].size())\n",
    "    break"
   ]
  },
  {
   "cell_type": "code",
   "execution_count": 38,
   "metadata": {},
   "outputs": [
    {
     "name": "stdout",
     "output_type": "stream",
     "text": [
      "('images', tensor([[0.9759, 0.7338, 0.0199, 0.7804, 0.7524]]))\n",
      "('targets', tensor([[0.6494, 0.9686, 0.4795, 0.4072, 0.0564]]))\n",
      "\n",
      "\n",
      "\n",
      "images tensor([[0.9759, 0.7338, 0.0199, 0.7804, 0.7524]])\n",
      "targets tensor([[0.6494, 0.9686, 0.4795, 0.4072, 0.0564]])\n",
      "\n",
      "\n",
      "Explaining the usage of **data\n",
      "tensor([[0.9759, 0.7338, 0.0199, 0.7804, 0.7524]]) tensor([[0.6494, 0.9686, 0.4795, 0.4072, 0.0564]])\n"
     ]
    }
   ],
   "source": [
    "# example for items\n",
    "dct = {'images': torch.rand(1,5), 'targets': torch.rand(1,5)}\n",
    "\n",
    "for d in dct.items():\n",
    "    print(d)\n",
    "\n",
    "print(\"\\n\\n\")\n",
    "for d in dct.items():\n",
    "    print(*d)\n",
    "    \n",
    "print(\"\\n\\nExplaining the usage of **data:\")\n",
    "def foo(images, targets):\n",
    "    print(images, targets)\n",
    "    \n",
    "foo(**dct)"
   ]
  },
  {
   "cell_type": "code",
   "execution_count": 24,
   "metadata": {},
   "outputs": [
    {
     "name": "stdout",
     "output_type": "stream",
     "text": [
      "images torch.Size([8, 3, 75, 300])\n",
      "targets torch.Size([8, 5])\n"
     ]
    }
   ],
   "source": [
    "for data in tk:\n",
    "    for k, v in data.items():\n",
    "        print(k, v.size())\n",
    "    break"
   ]
  },
  {
   "cell_type": "code",
   "execution_count": null,
   "metadata": {},
   "outputs": [],
   "source": []
  }
 ],
 "metadata": {
  "kernelspec": {
   "display_name": "Python 3",
   "language": "python",
   "name": "python3"
  },
  "language_info": {
   "codemirror_mode": {
    "name": "ipython",
    "version": 3
   },
   "file_extension": ".py",
   "mimetype": "text/x-python",
   "name": "python",
   "nbconvert_exporter": "python",
   "pygments_lexer": "ipython3",
   "version": "3.7.3"
  }
 },
 "nbformat": 4,
 "nbformat_minor": 2
}
